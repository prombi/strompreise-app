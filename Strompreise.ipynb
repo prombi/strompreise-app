{
 "cells": [
  {
   "cell_type": "markdown",
   "id": "ca11ddd9",
   "metadata": {},
   "source": [
    "# Strompreise"
   ]
  },
  {
   "cell_type": "code",
   "execution_count": 1,
   "id": "8eaeaee5",
   "metadata": {},
   "outputs": [],
   "source": [
    "import time\n",
    "from typing import Optional, Tuple, List\n",
    "import datetime as dt\n",
    "import pandas as pd\n",
    "import pytz\n",
    "import requests\n",
    "import streamlit as st\n",
    "import plotly.graph_objects as go"
   ]
  },
  {
   "cell_type": "code",
   "execution_count": 5,
   "id": "23bdf95a",
   "metadata": {},
   "outputs": [],
   "source": [
    "resolution_choice = \"quarterly\""
   ]
  },
  {
   "cell_type": "code",
   "execution_count": 9,
   "id": "63925d15",
   "metadata": {},
   "outputs": [],
   "source": [
    "# ---------------------------------------------------------\n",
    "# SMARD Loader\n",
    "# ---------------------------------------------------------\n",
    "SERIES_ID = \"4169\"\n",
    "REGION_CANDIDATES = [\"DE-LU\", \"DE\"]\n",
    "SMARD_BASE = \"https://www.smard.de/app\"\n",
    "HEADERS = {\"User-Agent\": \"Mozilla/5.0 (compatible; Streamlit-SMARD/1.0)\"}\n",
    "_last_tried: List[str] = []\n",
    "\n",
    "class SmardError(Exception):\n",
    "    pass\n",
    "\n",
    "def _safe_get_json(url: str, timeout: int = 30) -> dict:\n",
    "    _last_tried.append(url)\n",
    "    r = requests.get(url, headers=HEADERS, timeout=timeout)\n",
    "    if r.status_code != 200:\n",
    "        raise SmardError(f\"HTTP {r.status_code} für {url}\")\n",
    "    try:\n",
    "        return r.json()\n",
    "    except Exception:\n",
    "        snippet = (r.text or \"\")[:160].replace(\"\\n\", \" \")\n",
    "        ctype = r.headers.get(\"Content-Type\", \"\")\n",
    "        raise SmardError(f\"Kein JSON von {url}. Content-Type='{ctype}', Antwort: '{snippet}...'\")\n",
    "\n",
    "def _get_index(region: str, resolution: str) -> list[int]:\n",
    "    url = f\"{SMARD_BASE}/chart_data/{SERIES_ID}/{region}/index_{resolution}.json\"\n",
    "    data = _safe_get_json(url)\n",
    "    ts = data.get(\"timestamps\") or []\n",
    "    if not ts:\n",
    "        raise SmardError(f\"Keine timestamps in index_{resolution}.json ({region})\")\n",
    "    return ts\n",
    "\n",
    "def _try_load_series(region: str, resolution: str, ts: int) -> Optional[pd.DataFrame]:\n",
    "    for path in [\"table_data\", \"chart_data\"]:\n",
    "        url = f\"{SMARD_BASE}/{path}/{SERIES_ID}/{region}/{SERIES_ID}_{region}_{resolution}_{ts}.json\"\n",
    "        try:\n",
    "            data = _safe_get_json(url)\n",
    "            series = data.get(\"series\")\n",
    "            if series:\n",
    "                return pd.DataFrame(series, columns=[\"ts_ms\", \"eur_per_mwh\"])\n",
    "        except SmardError:\n",
    "            continue\n",
    "    return None\n",
    "\n",
    "# @st.cache_data(ttl=900)\n",
    "def load_smard_series(prefer_resolution: str = \"quarterhour\", max_backsteps: int = 12) -> Tuple[pd.DataFrame, str, str]:\n",
    "    resolutions = [prefer_resolution] + ([r for r in [\"hour\"] if r != prefer_resolution])\n",
    "    for region in REGION_CANDIDATES:\n",
    "        for resolution in resolutions:\n",
    "            try:\n",
    "                idx = _get_index(region, resolution)\n",
    "            except SmardError:\n",
    "                continue\n",
    "            for ts in reversed(idx[-(max_backsteps + 1):]):\n",
    "                df = _try_load_series(region, resolution, ts)\n",
    "                if df is not None and not df.empty:\n",
    "                    return df, resolution, region\n",
    "                time.sleep(0.15)\n",
    "    raise SmardError(\"Keine gültige SMARD-Datei gefunden (region/auflösung/ts).\")"
   ]
  },
  {
   "cell_type": "code",
   "execution_count": 10,
   "id": "de33a9c9",
   "metadata": {},
   "outputs": [],
   "source": [
    "df_raw, used_resolution, used_region = load_smard_series(prefer_resolution=resolution_choice, max_backsteps=12)"
   ]
  },
  {
   "cell_type": "code",
   "execution_count": 11,
   "id": "f56b3860",
   "metadata": {},
   "outputs": [
    {
     "data": {
      "application/vnd.microsoft.datawrangler.viewer.v0+json": {
       "columns": [
        {
         "name": "index",
         "rawType": "int64",
         "type": "integer"
        },
        {
         "name": "ts_ms",
         "rawType": "int64",
         "type": "integer"
        },
        {
         "name": "eur_per_mwh",
         "rawType": "float64",
         "type": "float"
        }
       ],
       "ref": "a012288d-fe7d-4512-b95e-6d908118749a",
       "rows": [
        [
         "0",
         "1760306400000",
         "93.45"
        ],
        [
         "1",
         "1760310000000",
         "90.26"
        ],
        [
         "2",
         "1760313600000",
         "90.83"
        ],
        [
         "3",
         "1760317200000",
         "89.12"
        ],
        [
         "4",
         "1760320800000",
         "93.45"
        ],
        [
         "5",
         "1760324400000",
         "98.1"
        ],
        [
         "6",
         "1760328000000",
         "131.41"
        ],
        [
         "7",
         "1760331600000",
         "218.64"
        ],
        [
         "8",
         "1760335200000",
         "199.56"
        ],
        [
         "9",
         "1760338800000",
         "150.19"
        ],
        [
         "10",
         "1760342400000",
         "125.1"
        ],
        [
         "11",
         "1760346000000",
         "110.0"
        ],
        [
         "12",
         "1760349600000",
         "95.1"
        ],
        [
         "13",
         "1760353200000",
         "89.86"
        ],
        [
         "14",
         "1760356800000",
         "92.1"
        ],
        [
         "15",
         "1760360400000",
         "101.84"
        ],
        [
         "16",
         "1760364000000",
         "117.9"
        ],
        [
         "17",
         "1760367600000",
         "180.6"
        ],
        [
         "18",
         "1760371200000",
         "305.74"
        ],
        [
         "19",
         "1760374800000",
         "306.58"
        ],
        [
         "20",
         "1760378400000",
         "186.95"
        ],
        [
         "21",
         "1760382000000",
         "137.18"
        ],
        [
         "22",
         "1760385600000",
         "121.99"
        ],
        [
         "23",
         "1760389200000",
         "111.28"
        ],
        [
         "24",
         "1760392800000",
         null
        ],
        [
         "25",
         "1760396400000",
         null
        ],
        [
         "26",
         "1760400000000",
         null
        ],
        [
         "27",
         "1760403600000",
         null
        ],
        [
         "28",
         "1760407200000",
         null
        ],
        [
         "29",
         "1760410800000",
         null
        ],
        [
         "30",
         "1760414400000",
         null
        ],
        [
         "31",
         "1760418000000",
         null
        ],
        [
         "32",
         "1760421600000",
         null
        ],
        [
         "33",
         "1760425200000",
         null
        ],
        [
         "34",
         "1760428800000",
         null
        ],
        [
         "35",
         "1760432400000",
         null
        ],
        [
         "36",
         "1760436000000",
         null
        ],
        [
         "37",
         "1760439600000",
         null
        ],
        [
         "38",
         "1760443200000",
         null
        ],
        [
         "39",
         "1760446800000",
         null
        ],
        [
         "40",
         "1760450400000",
         null
        ],
        [
         "41",
         "1760454000000",
         null
        ],
        [
         "42",
         "1760457600000",
         null
        ],
        [
         "43",
         "1760461200000",
         null
        ],
        [
         "44",
         "1760464800000",
         null
        ],
        [
         "45",
         "1760468400000",
         null
        ],
        [
         "46",
         "1760472000000",
         null
        ],
        [
         "47",
         "1760475600000",
         null
        ],
        [
         "48",
         "1760479200000",
         "115.46"
        ],
        [
         "49",
         "1760482800000",
         "111.87"
        ]
       ],
       "shape": {
        "columns": 2,
        "rows": 168
       }
      },
      "text/html": [
       "<div>\n",
       "<style scoped>\n",
       "    .dataframe tbody tr th:only-of-type {\n",
       "        vertical-align: middle;\n",
       "    }\n",
       "\n",
       "    .dataframe tbody tr th {\n",
       "        vertical-align: top;\n",
       "    }\n",
       "\n",
       "    .dataframe thead th {\n",
       "        text-align: right;\n",
       "    }\n",
       "</style>\n",
       "<table border=\"1\" class=\"dataframe\">\n",
       "  <thead>\n",
       "    <tr style=\"text-align: right;\">\n",
       "      <th></th>\n",
       "      <th>ts_ms</th>\n",
       "      <th>eur_per_mwh</th>\n",
       "    </tr>\n",
       "  </thead>\n",
       "  <tbody>\n",
       "    <tr>\n",
       "      <th>0</th>\n",
       "      <td>1760306400000</td>\n",
       "      <td>93.45</td>\n",
       "    </tr>\n",
       "    <tr>\n",
       "      <th>1</th>\n",
       "      <td>1760310000000</td>\n",
       "      <td>90.26</td>\n",
       "    </tr>\n",
       "    <tr>\n",
       "      <th>2</th>\n",
       "      <td>1760313600000</td>\n",
       "      <td>90.83</td>\n",
       "    </tr>\n",
       "    <tr>\n",
       "      <th>3</th>\n",
       "      <td>1760317200000</td>\n",
       "      <td>89.12</td>\n",
       "    </tr>\n",
       "    <tr>\n",
       "      <th>4</th>\n",
       "      <td>1760320800000</td>\n",
       "      <td>93.45</td>\n",
       "    </tr>\n",
       "    <tr>\n",
       "      <th>...</th>\n",
       "      <td>...</td>\n",
       "      <td>...</td>\n",
       "    </tr>\n",
       "    <tr>\n",
       "      <th>163</th>\n",
       "      <td>1760893200000</td>\n",
       "      <td>NaN</td>\n",
       "    </tr>\n",
       "    <tr>\n",
       "      <th>164</th>\n",
       "      <td>1760896800000</td>\n",
       "      <td>NaN</td>\n",
       "    </tr>\n",
       "    <tr>\n",
       "      <th>165</th>\n",
       "      <td>1760900400000</td>\n",
       "      <td>NaN</td>\n",
       "    </tr>\n",
       "    <tr>\n",
       "      <th>166</th>\n",
       "      <td>1760904000000</td>\n",
       "      <td>NaN</td>\n",
       "    </tr>\n",
       "    <tr>\n",
       "      <th>167</th>\n",
       "      <td>1760907600000</td>\n",
       "      <td>NaN</td>\n",
       "    </tr>\n",
       "  </tbody>\n",
       "</table>\n",
       "<p>168 rows × 2 columns</p>\n",
       "</div>"
      ],
      "text/plain": [
       "             ts_ms  eur_per_mwh\n",
       "0    1760306400000        93.45\n",
       "1    1760310000000        90.26\n",
       "2    1760313600000        90.83\n",
       "3    1760317200000        89.12\n",
       "4    1760320800000        93.45\n",
       "..             ...          ...\n",
       "163  1760893200000          NaN\n",
       "164  1760896800000          NaN\n",
       "165  1760900400000          NaN\n",
       "166  1760904000000          NaN\n",
       "167  1760907600000          NaN\n",
       "\n",
       "[168 rows x 2 columns]"
      ]
     },
     "execution_count": 11,
     "metadata": {},
     "output_type": "execute_result"
    }
   ],
   "source": [
    "df_raw"
   ]
  },
  {
   "cell_type": "code",
   "execution_count": 12,
   "id": "1da432b4",
   "metadata": {},
   "outputs": [],
   "source": [
    "# ---------------------------------------------------------\n",
    "# Data preparation\n",
    "# ---------------------------------------------------------\n",
    "tz_berlin = pytz.timezone(\"Europe/Berlin\")\n",
    "df_raw[\"ts\"] = pd.to_datetime(df_raw[\"ts_ms\"], unit=\"ms\", utc=True).dt.tz_convert(\"Europe/Berlin\")\n",
    "df_raw[\"ct_per_kwh\"] = df_raw[\"eur_per_mwh\"] * 0.1\n",
    "\n",
    "# ---------------------------------------------------------\n",
    "# Zeitfenster: von aktuellem Mittag (12:00) bis nächstes Mittag (12:00)\n",
    "# ---------------------------------------------------------\n",
    "tz_berlin = pytz.timezone(\"Europe/Berlin\")\n",
    "now = dt.datetime.now(tz=tz_berlin)\n",
    "today = now.date()\n",
    "\n",
    "# define nominal window 12:00→12:00\n",
    "start_window = tz_berlin.localize(dt.datetime.combine(today, dt.time(12, 0)))\n",
    "end_window = start_window + dt.timedelta(days=1)\n",
    "\n",
    "df_raw[\"ts\"] = pd.to_datetime(df_raw[\"ts_ms\"], unit=\"ms\", utc=True).dt.tz_convert(\"Europe/Berlin\")\n",
    "df_raw[\"ct_per_kwh\"] = df_raw[\"eur_per_mwh\"] * 0.1\n",
    "\n",
    "# Filter: keep data that falls inside that nominal 24-h window\n",
    "df = df_raw[(df_raw[\"ts\"] >= start_window - dt.timedelta(hours=12)) &\n",
    "            (df_raw[\"ts\"] < end_window + dt.timedelta(hours=12))].copy()\n",
    "\n",
    "# ensure we actually cover the full delivery range; extend end to +12 h after last timestamp if needed\n",
    "if not df.empty:\n",
    "    last_ts = df[\"ts\"].max()\n",
    "    if last_ts < end_window:\n",
    "        end_window = last_ts + dt.timedelta(hours=12)\n",
    "\n",
    "# if df.empty:\n",
    "#     st.info(\"Für dieses Zeitfenster liegen noch keine Day-Ahead-Daten vor.\")\n",
    "#     st.stop()\n",
    "\n",
    "# # ---------------------------------------------------------\n",
    "# # Komponenten: Spot + Gebühren (inkl. MwSt)\n",
    "# # ---------------------------------------------------------\n",
    "# fees = st.session_state.fees\n",
    "# df[\"spot_ct\"] = df[\"ct_per_kwh\"]\n",
    "\n",
    "# fees_no_vat = (\n",
    "#     fees[\"stromsteuer_ct\"]\n",
    "#     + fees[\"umlagen_ct\"]\n",
    "#     + fees[\"konzessionsabgabe_ct\"]\n",
    "#     + fees[\"netzentgelt_ct\"]\n",
    "# )\n",
    "# df[\"fees_incl_vat_ct\"] = (fees_no_vat + df[\"spot_ct\"]) * (fees[\"mwst\"] / 100.0) + fees_no_vat\n",
    "# df[\"total_ct\"] = df[\"spot_ct\"] + df[\"fees_incl_vat_ct\"]\n"
   ]
  },
  {
   "cell_type": "code",
   "execution_count": 13,
   "id": "748c8b88",
   "metadata": {},
   "outputs": [
    {
     "data": {
      "application/vnd.microsoft.datawrangler.viewer.v0+json": {
       "columns": [
        {
         "name": "index",
         "rawType": "int64",
         "type": "integer"
        },
        {
         "name": "ts_ms",
         "rawType": "int64",
         "type": "integer"
        },
        {
         "name": "eur_per_mwh",
         "rawType": "float64",
         "type": "float"
        },
        {
         "name": "ts",
         "rawType": "datetime64[ns, Europe/Berlin]",
         "type": "unknown"
        },
        {
         "name": "ct_per_kwh",
         "rawType": "float64",
         "type": "float"
        }
       ],
       "ref": "038791b5-f205-4ec3-9ad4-ebeaf46f49b7",
       "rows": [
        [
         "0",
         "1760306400000",
         "93.45",
         "2025-10-13 00:00:00+02:00",
         "9.345"
        ],
        [
         "1",
         "1760310000000",
         "90.26",
         "2025-10-13 01:00:00+02:00",
         "9.026000000000002"
        ],
        [
         "2",
         "1760313600000",
         "90.83",
         "2025-10-13 02:00:00+02:00",
         "9.083"
        ],
        [
         "3",
         "1760317200000",
         "89.12",
         "2025-10-13 03:00:00+02:00",
         "8.912"
        ],
        [
         "4",
         "1760320800000",
         "93.45",
         "2025-10-13 04:00:00+02:00",
         "9.345"
        ],
        [
         "5",
         "1760324400000",
         "98.1",
         "2025-10-13 05:00:00+02:00",
         "9.81"
        ],
        [
         "6",
         "1760328000000",
         "131.41",
         "2025-10-13 06:00:00+02:00",
         "13.141"
        ],
        [
         "7",
         "1760331600000",
         "218.64",
         "2025-10-13 07:00:00+02:00",
         "21.864"
        ],
        [
         "8",
         "1760335200000",
         "199.56",
         "2025-10-13 08:00:00+02:00",
         "19.956000000000003"
        ],
        [
         "9",
         "1760338800000",
         "150.19",
         "2025-10-13 09:00:00+02:00",
         "15.019"
        ],
        [
         "10",
         "1760342400000",
         "125.1",
         "2025-10-13 10:00:00+02:00",
         "12.51"
        ],
        [
         "11",
         "1760346000000",
         "110.0",
         "2025-10-13 11:00:00+02:00",
         "11.0"
        ],
        [
         "12",
         "1760349600000",
         "95.1",
         "2025-10-13 12:00:00+02:00",
         "9.51"
        ],
        [
         "13",
         "1760353200000",
         "89.86",
         "2025-10-13 13:00:00+02:00",
         "8.986"
        ],
        [
         "14",
         "1760356800000",
         "92.1",
         "2025-10-13 14:00:00+02:00",
         "9.209999999999999"
        ],
        [
         "15",
         "1760360400000",
         "101.84",
         "2025-10-13 15:00:00+02:00",
         "10.184000000000001"
        ],
        [
         "16",
         "1760364000000",
         "117.9",
         "2025-10-13 16:00:00+02:00",
         "11.790000000000001"
        ],
        [
         "17",
         "1760367600000",
         "180.6",
         "2025-10-13 17:00:00+02:00",
         "18.06"
        ],
        [
         "18",
         "1760371200000",
         "305.74",
         "2025-10-13 18:00:00+02:00",
         "30.574"
        ],
        [
         "19",
         "1760374800000",
         "306.58",
         "2025-10-13 19:00:00+02:00",
         "30.658"
        ],
        [
         "20",
         "1760378400000",
         "186.95",
         "2025-10-13 20:00:00+02:00",
         "18.695"
        ],
        [
         "21",
         "1760382000000",
         "137.18",
         "2025-10-13 21:00:00+02:00",
         "13.718000000000002"
        ],
        [
         "22",
         "1760385600000",
         "121.99",
         "2025-10-13 22:00:00+02:00",
         "12.199"
        ],
        [
         "23",
         "1760389200000",
         "111.28",
         "2025-10-13 23:00:00+02:00",
         "11.128"
        ],
        [
         "24",
         "1760392800000",
         null,
         "2025-10-14 00:00:00+02:00",
         null
        ],
        [
         "25",
         "1760396400000",
         null,
         "2025-10-14 01:00:00+02:00",
         null
        ],
        [
         "26",
         "1760400000000",
         null,
         "2025-10-14 02:00:00+02:00",
         null
        ],
        [
         "27",
         "1760403600000",
         null,
         "2025-10-14 03:00:00+02:00",
         null
        ],
        [
         "28",
         "1760407200000",
         null,
         "2025-10-14 04:00:00+02:00",
         null
        ],
        [
         "29",
         "1760410800000",
         null,
         "2025-10-14 05:00:00+02:00",
         null
        ],
        [
         "30",
         "1760414400000",
         null,
         "2025-10-14 06:00:00+02:00",
         null
        ],
        [
         "31",
         "1760418000000",
         null,
         "2025-10-14 07:00:00+02:00",
         null
        ],
        [
         "32",
         "1760421600000",
         null,
         "2025-10-14 08:00:00+02:00",
         null
        ],
        [
         "33",
         "1760425200000",
         null,
         "2025-10-14 09:00:00+02:00",
         null
        ],
        [
         "34",
         "1760428800000",
         null,
         "2025-10-14 10:00:00+02:00",
         null
        ],
        [
         "35",
         "1760432400000",
         null,
         "2025-10-14 11:00:00+02:00",
         null
        ],
        [
         "36",
         "1760436000000",
         null,
         "2025-10-14 12:00:00+02:00",
         null
        ],
        [
         "37",
         "1760439600000",
         null,
         "2025-10-14 13:00:00+02:00",
         null
        ],
        [
         "38",
         "1760443200000",
         null,
         "2025-10-14 14:00:00+02:00",
         null
        ],
        [
         "39",
         "1760446800000",
         null,
         "2025-10-14 15:00:00+02:00",
         null
        ],
        [
         "40",
         "1760450400000",
         null,
         "2025-10-14 16:00:00+02:00",
         null
        ],
        [
         "41",
         "1760454000000",
         null,
         "2025-10-14 17:00:00+02:00",
         null
        ],
        [
         "42",
         "1760457600000",
         null,
         "2025-10-14 18:00:00+02:00",
         null
        ],
        [
         "43",
         "1760461200000",
         null,
         "2025-10-14 19:00:00+02:00",
         null
        ],
        [
         "44",
         "1760464800000",
         null,
         "2025-10-14 20:00:00+02:00",
         null
        ],
        [
         "45",
         "1760468400000",
         null,
         "2025-10-14 21:00:00+02:00",
         null
        ],
        [
         "46",
         "1760472000000",
         null,
         "2025-10-14 22:00:00+02:00",
         null
        ],
        [
         "47",
         "1760475600000",
         null,
         "2025-10-14 23:00:00+02:00",
         null
        ],
        [
         "48",
         "1760479200000",
         "115.46",
         "2025-10-15 00:00:00+02:00",
         "11.546"
        ],
        [
         "49",
         "1760482800000",
         "111.87",
         "2025-10-15 01:00:00+02:00",
         "11.187000000000001"
        ]
       ],
       "shape": {
        "columns": 4,
        "rows": 168
       }
      },
      "text/html": [
       "<div>\n",
       "<style scoped>\n",
       "    .dataframe tbody tr th:only-of-type {\n",
       "        vertical-align: middle;\n",
       "    }\n",
       "\n",
       "    .dataframe tbody tr th {\n",
       "        vertical-align: top;\n",
       "    }\n",
       "\n",
       "    .dataframe thead th {\n",
       "        text-align: right;\n",
       "    }\n",
       "</style>\n",
       "<table border=\"1\" class=\"dataframe\">\n",
       "  <thead>\n",
       "    <tr style=\"text-align: right;\">\n",
       "      <th></th>\n",
       "      <th>ts_ms</th>\n",
       "      <th>eur_per_mwh</th>\n",
       "      <th>ts</th>\n",
       "      <th>ct_per_kwh</th>\n",
       "    </tr>\n",
       "  </thead>\n",
       "  <tbody>\n",
       "    <tr>\n",
       "      <th>0</th>\n",
       "      <td>1760306400000</td>\n",
       "      <td>93.45</td>\n",
       "      <td>2025-10-13 00:00:00+02:00</td>\n",
       "      <td>9.345</td>\n",
       "    </tr>\n",
       "    <tr>\n",
       "      <th>1</th>\n",
       "      <td>1760310000000</td>\n",
       "      <td>90.26</td>\n",
       "      <td>2025-10-13 01:00:00+02:00</td>\n",
       "      <td>9.026</td>\n",
       "    </tr>\n",
       "    <tr>\n",
       "      <th>2</th>\n",
       "      <td>1760313600000</td>\n",
       "      <td>90.83</td>\n",
       "      <td>2025-10-13 02:00:00+02:00</td>\n",
       "      <td>9.083</td>\n",
       "    </tr>\n",
       "    <tr>\n",
       "      <th>3</th>\n",
       "      <td>1760317200000</td>\n",
       "      <td>89.12</td>\n",
       "      <td>2025-10-13 03:00:00+02:00</td>\n",
       "      <td>8.912</td>\n",
       "    </tr>\n",
       "    <tr>\n",
       "      <th>4</th>\n",
       "      <td>1760320800000</td>\n",
       "      <td>93.45</td>\n",
       "      <td>2025-10-13 04:00:00+02:00</td>\n",
       "      <td>9.345</td>\n",
       "    </tr>\n",
       "    <tr>\n",
       "      <th>...</th>\n",
       "      <td>...</td>\n",
       "      <td>...</td>\n",
       "      <td>...</td>\n",
       "      <td>...</td>\n",
       "    </tr>\n",
       "    <tr>\n",
       "      <th>163</th>\n",
       "      <td>1760893200000</td>\n",
       "      <td>NaN</td>\n",
       "      <td>2025-10-19 19:00:00+02:00</td>\n",
       "      <td>NaN</td>\n",
       "    </tr>\n",
       "    <tr>\n",
       "      <th>164</th>\n",
       "      <td>1760896800000</td>\n",
       "      <td>NaN</td>\n",
       "      <td>2025-10-19 20:00:00+02:00</td>\n",
       "      <td>NaN</td>\n",
       "    </tr>\n",
       "    <tr>\n",
       "      <th>165</th>\n",
       "      <td>1760900400000</td>\n",
       "      <td>NaN</td>\n",
       "      <td>2025-10-19 21:00:00+02:00</td>\n",
       "      <td>NaN</td>\n",
       "    </tr>\n",
       "    <tr>\n",
       "      <th>166</th>\n",
       "      <td>1760904000000</td>\n",
       "      <td>NaN</td>\n",
       "      <td>2025-10-19 22:00:00+02:00</td>\n",
       "      <td>NaN</td>\n",
       "    </tr>\n",
       "    <tr>\n",
       "      <th>167</th>\n",
       "      <td>1760907600000</td>\n",
       "      <td>NaN</td>\n",
       "      <td>2025-10-19 23:00:00+02:00</td>\n",
       "      <td>NaN</td>\n",
       "    </tr>\n",
       "  </tbody>\n",
       "</table>\n",
       "<p>168 rows × 4 columns</p>\n",
       "</div>"
      ],
      "text/plain": [
       "             ts_ms  eur_per_mwh                        ts  ct_per_kwh\n",
       "0    1760306400000        93.45 2025-10-13 00:00:00+02:00       9.345\n",
       "1    1760310000000        90.26 2025-10-13 01:00:00+02:00       9.026\n",
       "2    1760313600000        90.83 2025-10-13 02:00:00+02:00       9.083\n",
       "3    1760317200000        89.12 2025-10-13 03:00:00+02:00       8.912\n",
       "4    1760320800000        93.45 2025-10-13 04:00:00+02:00       9.345\n",
       "..             ...          ...                       ...         ...\n",
       "163  1760893200000          NaN 2025-10-19 19:00:00+02:00         NaN\n",
       "164  1760896800000          NaN 2025-10-19 20:00:00+02:00         NaN\n",
       "165  1760900400000          NaN 2025-10-19 21:00:00+02:00         NaN\n",
       "166  1760904000000          NaN 2025-10-19 22:00:00+02:00         NaN\n",
       "167  1760907600000          NaN 2025-10-19 23:00:00+02:00         NaN\n",
       "\n",
       "[168 rows x 4 columns]"
      ]
     },
     "execution_count": 13,
     "metadata": {},
     "output_type": "execute_result"
    }
   ],
   "source": [
    "df_raw"
   ]
  }
 ],
 "metadata": {
  "kernelspec": {
   "display_name": "strompreise-app (3.13.5)",
   "language": "python",
   "name": "python3"
  },
  "language_info": {
   "codemirror_mode": {
    "name": "ipython",
    "version": 3
   },
   "file_extension": ".py",
   "mimetype": "text/x-python",
   "name": "python",
   "nbconvert_exporter": "python",
   "pygments_lexer": "ipython3",
   "version": "3.13.5"
  }
 },
 "nbformat": 4,
 "nbformat_minor": 5
}
